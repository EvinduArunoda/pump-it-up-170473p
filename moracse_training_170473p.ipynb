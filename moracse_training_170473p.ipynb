{
  "nbformat": 4,
  "nbformat_minor": 0,
  "metadata": {
    "colab": {
      "name": "Copy of moracse_training_170473p.ipynb",
      "provenance": [],
      "collapsed_sections": [],
      "authorship_tag": "ABX9TyOF8LYs9a0aYi+ZMmNzC6Oq",
      "include_colab_link": true
    },
    "kernelspec": {
      "display_name": "Python 3",
      "name": "python3"
    },
    "language_info": {
      "name": "python"
    }
  },
  "cells": [
    {
      "cell_type": "markdown",
      "metadata": {
        "id": "view-in-github",
        "colab_type": "text"
      },
      "source": [
        "<a href=\"https://colab.research.google.com/github/EvinduArunoda/pump-it-up-170473p/blob/main/moracse_training_170473p.ipynb\" target=\"_parent\"><img src=\"https://colab.research.google.com/assets/colab-badge.svg\" alt=\"Open In Colab\"/></a>"
      ]
    },
    {
      "cell_type": "code",
      "metadata": {
        "colab": {
          "base_uri": "https://localhost:8080/"
        },
        "id": "Kg7EN5PSnDAZ",
        "outputId": "600a0815-5e38-4771-f4b5-f85c5c316e99"
      },
      "source": [
        "from google.colab import drive\n",
        "drive.mount(\"/content/drive\")\n",
        "\n",
        "path = '/content/drive/MyDrive/Machine Learning Project/Data'"
      ],
      "execution_count": 1,
      "outputs": [
        {
          "output_type": "stream",
          "name": "stdout",
          "text": [
            "Drive already mounted at /content/drive; to attempt to forcibly remount, call drive.mount(\"/content/drive\", force_remount=True).\n"
          ]
        }
      ]
    },
    {
      "cell_type": "code",
      "metadata": {
        "id": "1eKuI8yGLXEW"
      },
      "source": [
        "# imports\n",
        "import pandas as pd\n",
        "import numpy as np\n",
        "import matplotlib.pyplot as plt\n",
        "import seaborn as sns\n",
        "from sklearn.preprocessing import MinMaxScaler\n",
        "from sklearn.ensemble import RandomForestClassifier\n",
        "from xgboost import XGBClassifier\n",
        "from sklearn.model_selection import cross_val_score\n",
        "\n",
        "test = pd.read_csv(path+\"/test_set_values.csv\")\n",
        "train_x = pd.read_csv(path+\"/training_set_values.csv\")\n",
        "train_y = pd.read_csv(path+\"/training_set_labels.csv\")\n",
        "\n",
        "train = train_y.merge(train_x, on='id')\n"
      ],
      "execution_count": 2,
      "outputs": []
    },
    {
      "cell_type": "code",
      "metadata": {
        "colab": {
          "base_uri": "https://localhost:8080/"
        },
        "id": "rAEOpw0fANeE",
        "outputId": "04d89df0-21d7-4026-c5b7-ddb4e43c8fe4"
      },
      "source": [
        "y = train.pop('status_group')\n",
        "\n",
        "train['train']=1\n",
        "test['train']=0\n",
        "\n",
        "combined = pd.concat([train, test])\n",
        "\n",
        "y.shape"
      ],
      "execution_count": 3,
      "outputs": [
        {
          "output_type": "execute_result",
          "data": {
            "text/plain": [
              "(59400,)"
            ]
          },
          "metadata": {},
          "execution_count": 3
        }
      ]
    },
    {
      "cell_type": "code",
      "metadata": {
        "colab": {
          "base_uri": "https://localhost:8080/"
        },
        "id": "dOpEbCrL1oD1",
        "outputId": "2799ca8f-95df-4d2c-e385-4b357d1edc5c"
      },
      "source": [
        "y.head()"
      ],
      "execution_count": 4,
      "outputs": [
        {
          "output_type": "execute_result",
          "data": {
            "text/plain": [
              "0        functional\n",
              "1        functional\n",
              "2        functional\n",
              "3    non functional\n",
              "4        functional\n",
              "Name: status_group, dtype: object"
            ]
          },
          "metadata": {},
          "execution_count": 4
        }
      ]
    },
    {
      "cell_type": "markdown",
      "metadata": {
        "id": "Ok6q9shLLOuL"
      },
      "source": [
        "Feature Engineering & Pre-processing"
      ]
    },
    {
      "cell_type": "code",
      "metadata": {
        "colab": {
          "base_uri": "https://localhost:8080/"
        },
        "id": "HLtbgiS1nUMG",
        "outputId": "f92d3c31-065a-4d72-b4a5-d4720a5bcf35"
      },
      "source": [
        "combined['gps_height'].replace(0.0, np.nan, inplace=True)\n",
        "combined['population'].replace(0.0, np.nan, inplace=True)\n",
        "combined['amount_tsh'].replace(0.0, np.nan, inplace=True)\n",
        "combined['longitude'].replace(0.0, np.nan, inplace=True)\n",
        "combined['latitude'].replace(0.0, np.nan, inplace=True)\n",
        "combined['construction_year'].replace(0.0, np.nan, inplace=True)\n",
        "\n",
        "combined[\"gps_height\"].fillna(combined.groupby(['region', 'district_code'])[\"gps_height\"].transform(\"mean\"), inplace=True)\n",
        "combined[\"gps_height\"].fillna(combined.groupby(['region'])[\"gps_height\"].transform(\"mean\"), inplace=True)\n",
        "combined[\"gps_height\"].fillna(combined[\"gps_height\"].mean(), inplace=True)\n",
        "\n",
        "combined[\"population\"].fillna(combined.groupby(['region', 'district_code'])[\"population\"].transform(\"median\"), inplace=True)\n",
        "combined[\"population\"].fillna(combined.groupby(['region'])[\"population\"].transform(\"median\"), inplace=True)\n",
        "combined[\"population\"].fillna(combined[\"population\"].median(), inplace=True)\n",
        "\n",
        "combined[\"amount_tsh\"].fillna(combined.groupby(['region', 'district_code'])[\"amount_tsh\"].transform(\"median\"), inplace=True)\n",
        "combined[\"amount_tsh\"].fillna(combined.groupby(['region'])[\"amount_tsh\"].transform(\"median\"), inplace=True)\n",
        "combined[\"amount_tsh\"].fillna(combined[\"amount_tsh\"].median(), inplace=True)\n",
        "\n",
        "combined[\"latitude\"].fillna(combined.groupby(['region', 'district_code'])[\"latitude\"].transform(\"mean\"), inplace=True)\n",
        "combined[\"latitude\"].fillna(combined.groupby(['region'])[\"latitude\"].transform(\"mean\"), inplace=True)\n",
        "\n",
        "combined[\"longitude\"].fillna(combined.groupby(['region', 'district_code'])[\"longitude\"].transform(\"mean\"), inplace=True)\n",
        "combined[\"longitude\"].fillna(combined.groupby(['region'])[\"longitude\"].transform(\"mean\"), inplace=True)\n",
        "\n",
        "combined[\"construction_year\"].fillna(combined.groupby(['region', 'district_code'])[\"construction_year\"].transform(\"median\"), inplace=True)\n",
        "combined[\"construction_year\"].fillna(combined.groupby(['region'])[\"construction_year\"].transform(\"median\"), inplace=True)\n",
        "combined[\"construction_year\"].fillna(combined.groupby(['district_code'])[\"construction_year\"].transform(\"median\"), inplace=True)\n",
        "combined[\"construction_year\"].fillna(combined[\"construction_year\"].median(), inplace=True)\n",
        "\n",
        "# MinMaxScaling features\n",
        "features=['amount_tsh', 'gps_height', 'population']\n",
        "scaler = MinMaxScaler(feature_range=(0,20))\n",
        "combined[features] = scaler.fit_transform(combined[features])\n",
        "\n",
        "# Creating new features\n",
        "combined['date_recorded'] = pd.to_datetime(combined['date_recorded'])\n",
        "combined['functional_period'] = combined.date_recorded.dt.year - combined.construction_year\n",
        "\n",
        "# DATA Cleaning - Dropping features\n",
        "waste_features=['wpt_name','num_private','subvillage','region_code','recorded_by','management_group','extraction_type_group','extraction_type_class','payment','scheme_name','quality_group','quantity_group','source_type','source_class','waterpoint_type_group','ward','installer','public_meeting','permit','date_recorded','construction_year']\n",
        "combined.drop(waste_features,axis=1,inplace=True)\n",
        "\n",
        "# Convert into Lower case\n",
        "combined.waterpoint_type = combined.waterpoint_type.str.lower()\n",
        "combined.funder = combined.funder.str.lower()\n",
        "combined.basin = combined.basin.str.lower()\n",
        "combined.region = combined.region.str.lower()\n",
        "combined.source = combined.source.str.lower()\n",
        "combined.lga = combined.lga.str.lower()\n",
        "combined.management = combined.management.str.lower()\n",
        "combined.quantity = combined.quantity.str.lower()\n",
        "combined.water_quality = combined.water_quality.str.lower()\n",
        "combined.payment_type=combined.payment_type.str.lower()\n",
        "combined.extraction_type=combined.extraction_type.str.lower()\n",
        "\n",
        "combined[\"funder\"].fillna(\"other\", inplace=True)\n",
        "combined[\"scheme_management\"].fillna(\"other\", inplace=True)\n",
        "\n",
        "print(combined.isnull().sum())\n",
        "combined.info()\n",
        "combined.quantity.head(5)"
      ],
      "execution_count": 6,
      "outputs": [
        {
          "output_type": "stream",
          "name": "stdout",
          "text": [
            "id                   0\n",
            "amount_tsh           0\n",
            "funder               0\n",
            "gps_height           0\n",
            "longitude            0\n",
            "latitude             0\n",
            "basin                0\n",
            "region               0\n",
            "district_code        0\n",
            "lga                  0\n",
            "population           0\n",
            "scheme_management    0\n",
            "extraction_type      0\n",
            "management           0\n",
            "payment_type         0\n",
            "water_quality        0\n",
            "quantity             0\n",
            "source               0\n",
            "waterpoint_type      0\n",
            "train                0\n",
            "functional_period    0\n",
            "dtype: int64\n",
            "<class 'pandas.core.frame.DataFrame'>\n",
            "Int64Index: 74250 entries, 0 to 14849\n",
            "Data columns (total 21 columns):\n",
            " #   Column             Non-Null Count  Dtype  \n",
            "---  ------             --------------  -----  \n",
            " 0   id                 74250 non-null  int64  \n",
            " 1   amount_tsh         74250 non-null  float64\n",
            " 2   funder             74250 non-null  object \n",
            " 3   gps_height         74250 non-null  float64\n",
            " 4   longitude          74250 non-null  float64\n",
            " 5   latitude           74250 non-null  float64\n",
            " 6   basin              74250 non-null  object \n",
            " 7   region             74250 non-null  object \n",
            " 8   district_code      74250 non-null  int64  \n",
            " 9   lga                74250 non-null  object \n",
            " 10  population         74250 non-null  float64\n",
            " 11  scheme_management  74250 non-null  object \n",
            " 12  extraction_type    74250 non-null  object \n",
            " 13  management         74250 non-null  object \n",
            " 14  payment_type       74250 non-null  object \n",
            " 15  water_quality      74250 non-null  object \n",
            " 16  quantity           74250 non-null  object \n",
            " 17  source             74250 non-null  object \n",
            " 18  waterpoint_type    74250 non-null  object \n",
            " 19  train              74250 non-null  int64  \n",
            " 20  functional_period  74250 non-null  float64\n",
            "dtypes: float64(6), int64(3), object(12)\n",
            "memory usage: 12.5+ MB\n"
          ]
        },
        {
          "output_type": "execute_result",
          "data": {
            "text/plain": [
              "0          enough\n",
              "1    insufficient\n",
              "2          enough\n",
              "3             dry\n",
              "4        seasonal\n",
              "Name: quantity, dtype: object"
            ]
          },
          "metadata": {},
          "execution_count": 6
        }
      ]
    },
    {
      "cell_type": "code",
      "metadata": {
        "colab": {
          "base_uri": "https://localhost:8080/"
        },
        "id": "GRPq_R7oUTPQ",
        "outputId": "f165f0af-c47f-428f-c12c-b74f07a16206"
      },
      "source": [
        "combined.shape"
      ],
      "execution_count": 7,
      "outputs": [
        {
          "output_type": "execute_result",
          "data": {
            "text/plain": [
              "(74250, 21)"
            ]
          },
          "metadata": {},
          "execution_count": 7
        }
      ]
    },
    {
      "cell_type": "code",
      "metadata": {
        "colab": {
          "base_uri": "https://localhost:8080/",
          "height": 326
        },
        "id": "ufzkjwhxUW_k",
        "outputId": "6e5a488f-0cc4-4e61-b483-8711a4d8e55e"
      },
      "source": [
        "combined.head()"
      ],
      "execution_count": 8,
      "outputs": [
        {
          "output_type": "execute_result",
          "data": {
            "text/html": [
              "<div>\n",
              "<style scoped>\n",
              "    .dataframe tbody tr th:only-of-type {\n",
              "        vertical-align: middle;\n",
              "    }\n",
              "\n",
              "    .dataframe tbody tr th {\n",
              "        vertical-align: top;\n",
              "    }\n",
              "\n",
              "    .dataframe thead th {\n",
              "        text-align: right;\n",
              "    }\n",
              "</style>\n",
              "<table border=\"1\" class=\"dataframe\">\n",
              "  <thead>\n",
              "    <tr style=\"text-align: right;\">\n",
              "      <th></th>\n",
              "      <th>id</th>\n",
              "      <th>amount_tsh</th>\n",
              "      <th>funder</th>\n",
              "      <th>gps_height</th>\n",
              "      <th>longitude</th>\n",
              "      <th>latitude</th>\n",
              "      <th>basin</th>\n",
              "      <th>region</th>\n",
              "      <th>district_code</th>\n",
              "      <th>lga</th>\n",
              "      <th>population</th>\n",
              "      <th>scheme_management</th>\n",
              "      <th>extraction_type</th>\n",
              "      <th>management</th>\n",
              "      <th>payment_type</th>\n",
              "      <th>water_quality</th>\n",
              "      <th>quantity</th>\n",
              "      <th>source</th>\n",
              "      <th>waterpoint_type</th>\n",
              "      <th>train</th>\n",
              "      <th>functional_period</th>\n",
              "    </tr>\n",
              "  </thead>\n",
              "  <tbody>\n",
              "    <tr>\n",
              "      <th>0</th>\n",
              "      <td>69572</td>\n",
              "      <td>0.342846</td>\n",
              "      <td>roman</td>\n",
              "      <td>10.324381</td>\n",
              "      <td>34.938093</td>\n",
              "      <td>-9.856322</td>\n",
              "      <td>lake nyasa</td>\n",
              "      <td>iringa</td>\n",
              "      <td>5</td>\n",
              "      <td>ludewa</td>\n",
              "      <td>0.070822</td>\n",
              "      <td>VWC</td>\n",
              "      <td>gravity</td>\n",
              "      <td>vwc</td>\n",
              "      <td>annually</td>\n",
              "      <td>soft</td>\n",
              "      <td>enough</td>\n",
              "      <td>spring</td>\n",
              "      <td>communal standpipe</td>\n",
              "      <td>1</td>\n",
              "      <td>12.0</td>\n",
              "    </tr>\n",
              "    <tr>\n",
              "      <th>1</th>\n",
              "      <td>8776</td>\n",
              "      <td>0.011417</td>\n",
              "      <td>grumeti</td>\n",
              "      <td>10.387164</td>\n",
              "      <td>34.698766</td>\n",
              "      <td>-2.147466</td>\n",
              "      <td>lake victoria</td>\n",
              "      <td>mara</td>\n",
              "      <td>2</td>\n",
              "      <td>serengeti</td>\n",
              "      <td>0.182957</td>\n",
              "      <td>Other</td>\n",
              "      <td>gravity</td>\n",
              "      <td>wug</td>\n",
              "      <td>never pay</td>\n",
              "      <td>soft</td>\n",
              "      <td>insufficient</td>\n",
              "      <td>rainwater harvesting</td>\n",
              "      <td>communal standpipe</td>\n",
              "      <td>1</td>\n",
              "      <td>3.0</td>\n",
              "    </tr>\n",
              "    <tr>\n",
              "      <th>2</th>\n",
              "      <td>34310</td>\n",
              "      <td>0.001417</td>\n",
              "      <td>lottery club</td>\n",
              "      <td>5.413324</td>\n",
              "      <td>37.460664</td>\n",
              "      <td>-3.821329</td>\n",
              "      <td>pangani</td>\n",
              "      <td>manyara</td>\n",
              "      <td>4</td>\n",
              "      <td>simanjiro</td>\n",
              "      <td>0.163284</td>\n",
              "      <td>VWC</td>\n",
              "      <td>gravity</td>\n",
              "      <td>vwc</td>\n",
              "      <td>per bucket</td>\n",
              "      <td>soft</td>\n",
              "      <td>enough</td>\n",
              "      <td>dam</td>\n",
              "      <td>communal standpipe multiple</td>\n",
              "      <td>1</td>\n",
              "      <td>4.0</td>\n",
              "    </tr>\n",
              "    <tr>\n",
              "      <th>3</th>\n",
              "      <td>67743</td>\n",
              "      <td>0.002846</td>\n",
              "      <td>unicef</td>\n",
              "      <td>2.462504</td>\n",
              "      <td>38.486161</td>\n",
              "      <td>-11.155298</td>\n",
              "      <td>ruvuma / southern coast</td>\n",
              "      <td>mtwara</td>\n",
              "      <td>63</td>\n",
              "      <td>nanyumbu</td>\n",
              "      <td>0.037378</td>\n",
              "      <td>VWC</td>\n",
              "      <td>submersible</td>\n",
              "      <td>vwc</td>\n",
              "      <td>never pay</td>\n",
              "      <td>soft</td>\n",
              "      <td>dry</td>\n",
              "      <td>machine dbh</td>\n",
              "      <td>communal standpipe multiple</td>\n",
              "      <td>1</td>\n",
              "      <td>27.0</td>\n",
              "    </tr>\n",
              "    <tr>\n",
              "      <th>4</th>\n",
              "      <td>19728</td>\n",
              "      <td>0.014274</td>\n",
              "      <td>action in a</td>\n",
              "      <td>7.995705</td>\n",
              "      <td>31.130847</td>\n",
              "      <td>-1.825359</td>\n",
              "      <td>lake victoria</td>\n",
              "      <td>kagera</td>\n",
              "      <td>1</td>\n",
              "      <td>karagwe</td>\n",
              "      <td>0.130496</td>\n",
              "      <td>other</td>\n",
              "      <td>gravity</td>\n",
              "      <td>other</td>\n",
              "      <td>never pay</td>\n",
              "      <td>soft</td>\n",
              "      <td>seasonal</td>\n",
              "      <td>rainwater harvesting</td>\n",
              "      <td>communal standpipe</td>\n",
              "      <td>1</td>\n",
              "      <td>8.0</td>\n",
              "    </tr>\n",
              "  </tbody>\n",
              "</table>\n",
              "</div>"
            ],
            "text/plain": [
              "      id  amount_tsh  ... train  functional_period\n",
              "0  69572    0.342846  ...     1               12.0\n",
              "1   8776    0.011417  ...     1                3.0\n",
              "2  34310    0.001417  ...     1                4.0\n",
              "3  67743    0.002846  ...     1               27.0\n",
              "4  19728    0.014274  ...     1                8.0\n",
              "\n",
              "[5 rows x 21 columns]"
            ]
          },
          "metadata": {},
          "execution_count": 8
        }
      ]
    },
    {
      "cell_type": "code",
      "metadata": {
        "colab": {
          "base_uri": "https://localhost:8080/"
        },
        "id": "FcrOpTvmUzbD",
        "outputId": "789b5944-1cd8-4fe8-c6c3-5e5eda17ee4f"
      },
      "source": [
        "# Preprocessing\n",
        "combined['funder'] = pd.factorize(combined['funder'])[0]\n",
        "combined['scheme_management'] = pd.factorize(combined['scheme_management'])[0]\n",
        "combined['extraction_type'] = pd.factorize(combined['extraction_type'])[0]\n",
        "combined['management'] = pd.factorize(combined['management'])[0]\n",
        "combined['payment_type'] = pd.factorize(combined['payment_type'])[0]\n",
        "combined['water_quality'] = pd.factorize(combined['water_quality'])[0]\n",
        "combined['quantity'] = pd.factorize(combined['quantity'])[0]\n",
        "combined['source'] = pd.factorize(combined['source'])[0]\n",
        "combined['waterpoint_type'] = pd.factorize(combined['waterpoint_type'])[0]\n",
        "combined['basin'] = pd.factorize(combined['basin'])[0]\n",
        "combined['region'] = pd.factorize(combined['region'])[0]\n",
        "combined['lga'] = pd.factorize(combined['lga'])[0]\n",
        "combined['district_code'] = pd.factorize(combined['district_code'])[0]\n",
        "combined['functional_period'] = pd.factorize(combined['functional_period'])[0]\n",
        "combined.district_code.head(5)"
      ],
      "execution_count": 9,
      "outputs": [
        {
          "output_type": "execute_result",
          "data": {
            "text/plain": [
              "0    0\n",
              "1    1\n",
              "2    2\n",
              "3    3\n",
              "4    4\n",
              "Name: district_code, dtype: int64"
            ]
          },
          "metadata": {},
          "execution_count": 9
        }
      ]
    },
    {
      "cell_type": "code",
      "metadata": {
        "colab": {
          "base_uri": "https://localhost:8080/"
        },
        "id": "5sPfESPtU087",
        "outputId": "969596e2-f42d-431f-98d1-fac9631f397c"
      },
      "source": [
        "X = combined[combined[\"train\"] == 1]\n",
        "X_test = combined[combined[\"train\"] == 0]\n",
        "X.drop([\"train\"], axis=1, inplace=True)\n",
        "X.drop(['id'],axis=1, inplace=True)\n",
        "X_test.drop([\"train\"], axis=1, inplace=True)\n",
        "X_test_id = X_test['id']\n",
        "X_test.drop(['id'],axis=1, inplace=True)"
      ],
      "execution_count": 10,
      "outputs": [
        {
          "output_type": "stream",
          "name": "stderr",
          "text": [
            "/usr/local/lib/python3.7/dist-packages/pandas/core/frame.py:4174: SettingWithCopyWarning: \n",
            "A value is trying to be set on a copy of a slice from a DataFrame\n",
            "\n",
            "See the caveats in the documentation: https://pandas.pydata.org/pandas-docs/stable/user_guide/indexing.html#returning-a-view-versus-a-copy\n",
            "  errors=errors,\n"
          ]
        }
      ]
    },
    {
      "cell_type": "code",
      "metadata": {
        "id": "3oLIIiIuWc4D"
      },
      "source": [
        "model_rfc = RandomForestClassifier(n_estimators=1000)"
      ],
      "execution_count": 11,
      "outputs": []
    },
    {
      "cell_type": "code",
      "metadata": {
        "id": "t8ZES1ZXWOQy"
      },
      "source": [
        "model = XGBClassifier(objective = 'multi:softmax', booster = 'gbtree', nrounds = 'min.error.idx', \n",
        "                      num_class = 4, maximize = False, eval_metric = 'merror', eta = .2,\n",
        "                      max_depth = 14, colsample_bytree = .4)"
      ],
      "execution_count": 12,
      "outputs": []
    },
    {
      "cell_type": "code",
      "metadata": {
        "colab": {
          "base_uri": "https://localhost:8080/"
        },
        "id": "VOV6WMJxWU8P",
        "outputId": "247dce6e-5028-4e66-bcac-1beaff0df0f5"
      },
      "source": [
        "cross_val_score(model_rfc, X, y, cv=3)"
      ],
      "execution_count": 13,
      "outputs": [
        {
          "output_type": "execute_result",
          "data": {
            "text/plain": [
              "array([0.80378788, 0.80292929, 0.79888889])"
            ]
          },
          "metadata": {},
          "execution_count": 13
        }
      ]
    },
    {
      "cell_type": "code",
      "metadata": {
        "colab": {
          "base_uri": "https://localhost:8080/"
        },
        "id": "BbaNtfSWWt8B",
        "outputId": "087f909a-480f-40d0-a022-9a2816f78d42"
      },
      "source": [
        "model_rfc.fit(X,y)"
      ],
      "execution_count": 14,
      "outputs": [
        {
          "output_type": "execute_result",
          "data": {
            "text/plain": [
              "RandomForestClassifier(bootstrap=True, ccp_alpha=0.0, class_weight=None,\n",
              "                       criterion='gini', max_depth=None, max_features='auto',\n",
              "                       max_leaf_nodes=None, max_samples=None,\n",
              "                       min_impurity_decrease=0.0, min_impurity_split=None,\n",
              "                       min_samples_leaf=1, min_samples_split=2,\n",
              "                       min_weight_fraction_leaf=0.0, n_estimators=1000,\n",
              "                       n_jobs=None, oob_score=False, random_state=None,\n",
              "                       verbose=0, warm_start=False)"
            ]
          },
          "metadata": {},
          "execution_count": 14
        }
      ]
    },
    {
      "cell_type": "code",
      "metadata": {
        "colab": {
          "base_uri": "https://localhost:8080/"
        },
        "id": "6D2xal_gXYSc",
        "outputId": "3f0409a8-63a1-4b8b-93e7-c1fccff990e9"
      },
      "source": [
        "importances = model_rfc.feature_importances_\n",
        "importances\n",
        "indices = np.argsort(importances)[::-1]\n",
        "\n",
        "# Feature Ranking\n",
        "for f in range(X.shape[1]):\n",
        "    print(\"%d. feature %d (%f)\" % (f + 1, indices[f], importances[indices[f]]))\n",
        "\n",
        "for f in range(X.shape[1]):\n",
        "    print(X.columns[indices[f]],end=', ')"
      ],
      "execution_count": 15,
      "outputs": [
        {
          "output_type": "stream",
          "name": "stdout",
          "text": [
            "1. feature 3 (0.152730)\n",
            "2. feature 4 (0.150417)\n",
            "3. feature 15 (0.116565)\n",
            "4. feature 2 (0.077482)\n",
            "5. feature 17 (0.058197)\n",
            "6. feature 11 (0.055726)\n",
            "7. feature 1 (0.054421)\n",
            "8. feature 9 (0.052051)\n",
            "9. feature 18 (0.048390)\n",
            "10. feature 13 (0.032805)\n",
            "11. feature 8 (0.031586)\n",
            "12. feature 16 (0.030584)\n",
            "13. feature 0 (0.027143)\n",
            "14. feature 6 (0.023292)\n",
            "15. feature 7 (0.022221)\n",
            "16. feature 12 (0.018388)\n",
            "17. feature 5 (0.016956)\n",
            "18. feature 10 (0.016676)\n",
            "19. feature 14 (0.014369)\n",
            "longitude, latitude, quantity, gps_height, waterpoint_type, extraction_type, funder, population, functional_period, payment_type, lga, source, amount_tsh, region, district_code, management, basin, scheme_management, water_quality, "
          ]
        }
      ]
    },
    {
      "cell_type": "code",
      "metadata": {
        "id": "4ilgg3akNgsq"
      },
      "source": [
        "y_pred = model_rfc.predict(X_test)"
      ],
      "execution_count": 16,
      "outputs": []
    },
    {
      "cell_type": "code",
      "metadata": {
        "id": "mWXnjoSHX1fo"
      },
      "source": [
        "y_pred=pd.DataFrame(y_pred)\n",
        "y_pred['id']= X_test_id\n",
        "y_pred.columns=['status_group','id']\n",
        "y_pred=y_pred[['id','status_group']]"
      ],
      "execution_count": 17,
      "outputs": []
    },
    {
      "cell_type": "code",
      "metadata": {
        "id": "S6iRts6eX22p",
        "colab": {
          "base_uri": "https://localhost:8080/"
        },
        "outputId": "d46335ed-ac6b-4dce-9429-7e0d9b4d537d"
      },
      "source": [
        "y_pred.info()"
      ],
      "execution_count": 18,
      "outputs": [
        {
          "output_type": "stream",
          "name": "stdout",
          "text": [
            "<class 'pandas.core.frame.DataFrame'>\n",
            "RangeIndex: 14850 entries, 0 to 14849\n",
            "Data columns (total 2 columns):\n",
            " #   Column        Non-Null Count  Dtype \n",
            "---  ------        --------------  ----- \n",
            " 0   id            14850 non-null  int64 \n",
            " 1   status_group  14850 non-null  object\n",
            "dtypes: int64(1), object(1)\n",
            "memory usage: 232.2+ KB\n"
          ]
        }
      ]
    },
    {
      "cell_type": "code",
      "metadata": {
        "id": "WdXr-_6xX7Jr"
      },
      "source": [
        "pd.DataFrame(y_pred).to_csv(path+\"/submission_new.csv\",index=False)"
      ],
      "execution_count": 19,
      "outputs": []
    }
  ]
}