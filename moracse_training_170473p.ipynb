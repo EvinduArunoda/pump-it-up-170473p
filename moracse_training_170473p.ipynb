{
  "nbformat": 4,
  "nbformat_minor": 0,
  "metadata": {
    "colab": {
      "name": "Copy of moracse_training_170473p.ipynb",
      "provenance": [],
      "collapsed_sections": [],
      "authorship_tag": "ABX9TyNMx5EsqHDpvr8ccimOXG7H",
      "include_colab_link": true
    },
    "kernelspec": {
      "display_name": "Python 3",
      "name": "python3"
    },
    "language_info": {
      "name": "python"
    }
  },
  "cells": [
    {
      "cell_type": "markdown",
      "metadata": {
        "id": "view-in-github",
        "colab_type": "text"
      },
      "source": [
        "<a href=\"https://colab.research.google.com/github/EvinduArunoda/pump-it-up-170473p/blob/main/moracse_training_170473p.ipynb\" target=\"_parent\"><img src=\"https://colab.research.google.com/assets/colab-badge.svg\" alt=\"Open In Colab\"/></a>"
      ]
    },
    {
      "cell_type": "code",
      "metadata": {
        "colab": {
          "base_uri": "https://localhost:8080/"
        },
        "id": "Kg7EN5PSnDAZ",
        "outputId": "88b582fb-dd61-420b-9f0b-ab1287e4bc09"
      },
      "source": [
        "from google.colab import drive\n",
        "drive.mount(\"/content/drive\")\n",
        "\n",
        "path = '/content/drive/MyDrive/Machine Learning Project/Data'"
      ],
      "execution_count": 33,
      "outputs": [
        {
          "output_type": "stream",
          "name": "stdout",
          "text": [
            "Drive already mounted at /content/drive; to attempt to forcibly remount, call drive.mount(\"/content/drive\", force_remount=True).\n"
          ]
        }
      ]
    },
    {
      "cell_type": "code",
      "metadata": {
        "id": "1eKuI8yGLXEW"
      },
      "source": [
        "# imports\n",
        "import pandas as pd\n",
        "import numpy as np\n",
        "import matplotlib.pyplot as plt\n",
        "import seaborn as sns\n",
        "from sklearn.preprocessing import MinMaxScaler\n",
        "from sklearn.ensemble import RandomForestClassifier\n",
        "from xgboost import XGBClassifier\n",
        "from sklearn.model_selection import cross_val_score\n",
        "\n",
        "test = pd.read_csv(path+\"/test_set_values.csv\")\n",
        "train_x = pd.read_csv(path+\"/training_set_values.csv\")\n",
        "train_y = pd.read_csv(path+\"/training_set_labels.csv\")\n",
        "\n",
        "train = train_y.merge(train_x, on='id')\n"
      ],
      "execution_count": 34,
      "outputs": []
    },
    {
      "cell_type": "code",
      "metadata": {
        "colab": {
          "base_uri": "https://localhost:8080/"
        },
        "id": "rAEOpw0fANeE",
        "outputId": "d6ae062e-c0a4-417a-b01c-4136241bd160"
      },
      "source": [
        "y = train.pop('status_group')\n",
        "\n",
        "train['train']=1\n",
        "test['train']=0\n",
        "\n",
        "combined = pd.concat([train, test])\n",
        "\n",
        "y.shape"
      ],
      "execution_count": 35,
      "outputs": [
        {
          "output_type": "execute_result",
          "data": {
            "text/plain": [
              "(59400,)"
            ]
          },
          "metadata": {},
          "execution_count": 35
        }
      ]
    },
    {
      "cell_type": "code",
      "metadata": {
        "colab": {
          "base_uri": "https://localhost:8080/"
        },
        "id": "dOpEbCrL1oD1",
        "outputId": "a38d3d81-3023-42f2-ca27-ea14564b7ea7"
      },
      "source": [
        "y.head()"
      ],
      "execution_count": 36,
      "outputs": [
        {
          "output_type": "execute_result",
          "data": {
            "text/plain": [
              "0        functional\n",
              "1        functional\n",
              "2        functional\n",
              "3    non functional\n",
              "4        functional\n",
              "Name: status_group, dtype: object"
            ]
          },
          "metadata": {},
          "execution_count": 36
        }
      ]
    },
    {
      "cell_type": "markdown",
      "metadata": {
        "id": "Ok6q9shLLOuL"
      },
      "source": [
        "Feature Engineering & Pre-processing"
      ]
    },
    {
      "cell_type": "code",
      "metadata": {
        "colab": {
          "base_uri": "https://localhost:8080/"
        },
        "id": "95yfC0kUbetd",
        "outputId": "36576aaf-c8e0-466a-8a37-111ddfdd1d13"
      },
      "source": [
        "combined.isnull().sum()"
      ],
      "execution_count": 37,
      "outputs": [
        {
          "output_type": "execute_result",
          "data": {
            "text/plain": [
              "id                           0\n",
              "amount_tsh                   0\n",
              "date_recorded                0\n",
              "funder                    4504\n",
              "gps_height                   0\n",
              "installer                 4532\n",
              "longitude                    0\n",
              "latitude                     0\n",
              "wpt_name                     0\n",
              "num_private                  0\n",
              "basin                        0\n",
              "subvillage                 470\n",
              "region                       0\n",
              "region_code                  0\n",
              "district_code                0\n",
              "lga                          0\n",
              "ward                         0\n",
              "population                   0\n",
              "public_meeting            4155\n",
              "recorded_by                  0\n",
              "scheme_management         4846\n",
              "scheme_name              35258\n",
              "permit                    3793\n",
              "construction_year            0\n",
              "extraction_type              0\n",
              "extraction_type_group        0\n",
              "extraction_type_class        0\n",
              "management                   0\n",
              "management_group             0\n",
              "payment                      0\n",
              "payment_type                 0\n",
              "water_quality                0\n",
              "quality_group                0\n",
              "quantity                     0\n",
              "quantity_group               0\n",
              "source                       0\n",
              "source_type                  0\n",
              "source_class                 0\n",
              "waterpoint_type              0\n",
              "waterpoint_type_group        0\n",
              "train                        0\n",
              "dtype: int64"
            ]
          },
          "metadata": {},
          "execution_count": 37
        }
      ]
    },
    {
      "cell_type": "code",
      "metadata": {
        "colab": {
          "base_uri": "https://localhost:8080/"
        },
        "id": "HLtbgiS1nUMG",
        "outputId": "51edd6a5-1395-4e69-a6bd-63f5999d5292"
      },
      "source": [
        "combined['gps_height'].replace(0.0, np.nan, inplace=True)\n",
        "combined['population'].replace(0.0, np.nan, inplace=True)\n",
        "combined['amount_tsh'].replace(0.0, np.nan, inplace=True)\n",
        "combined['longitude'].replace(0.0, np.nan, inplace=True)\n",
        "combined['latitude'].replace(0.0, np.nan, inplace=True)\n",
        "combined['construction_year'].replace(0.0, np.nan, inplace=True)\n",
        "\n",
        "combined[\"gps_height\"].fillna(combined.groupby(['region', 'district_code'])[\"gps_height\"].transform(\"mean\"), inplace=True)\n",
        "combined[\"gps_height\"].fillna(combined.groupby(['region'])[\"gps_height\"].transform(\"mean\"), inplace=True)\n",
        "combined[\"gps_height\"].fillna(combined[\"gps_height\"].mean(), inplace=True)\n",
        "\n",
        "combined[\"population\"].fillna(combined.groupby(['region', 'district_code'])[\"population\"].transform(\"median\"), inplace=True)\n",
        "combined[\"population\"].fillna(combined.groupby(['region'])[\"population\"].transform(\"median\"), inplace=True)\n",
        "combined[\"population\"].fillna(combined[\"population\"].median(), inplace=True)\n",
        "\n",
        "combined[\"amount_tsh\"].fillna(combined.groupby(['region', 'district_code'])[\"amount_tsh\"].transform(\"median\"), inplace=True)\n",
        "combined[\"amount_tsh\"].fillna(combined.groupby(['region'])[\"amount_tsh\"].transform(\"median\"), inplace=True)\n",
        "combined[\"amount_tsh\"].fillna(combined[\"amount_tsh\"].median(), inplace=True)\n",
        "\n",
        "combined[\"latitude\"].fillna(combined.groupby(['region', 'district_code'])[\"latitude\"].transform(\"mean\"), inplace=True)\n",
        "\n",
        "combined[\"longitude\"].fillna(combined.groupby(['region', 'district_code'])[\"longitude\"].transform(\"mean\"), inplace=True)\n",
        "combined[\"longitude\"].fillna(combined.groupby(['region'])[\"longitude\"].transform(\"mean\"), inplace=True)\n",
        "\n",
        "combined[\"construction_year\"].fillna(combined.groupby(['region', 'district_code'])[\"construction_year\"].transform(\"median\"), inplace=True)\n",
        "combined[\"construction_year\"].fillna(combined.groupby(['region'])[\"construction_year\"].transform(\"median\"), inplace=True)\n",
        "combined[\"construction_year\"].fillna(combined.groupby(['district_code'])[\"construction_year\"].transform(\"median\"), inplace=True)\n",
        "combined[\"construction_year\"].fillna(combined[\"construction_year\"].median(), inplace=True)\n",
        "\n",
        "features=['amount_tsh', 'gps_height', 'population']\n",
        "scaler = MinMaxScaler(feature_range=(0,20))\n",
        "combined[features] = scaler.fit_transform(combined[features])\n",
        "\n",
        "# Creating new features\n",
        "combined['date_recorded'] = pd.to_datetime(combined['date_recorded'])\n",
        "combined['functional_period'] = combined.date_recorded.dt.year - combined.construction_year\n",
        "\n",
        "# DATA Cleaning - Dropping features\n",
        "waste_features=['wpt_name','num_private','subvillage','region_code','recorded_by','management_group','extraction_type_group','extraction_type_class','payment','scheme_name','quality_group','quantity_group','source_type','source_class','waterpoint_type_group','ward','installer','public_meeting','permit','date_recorded','construction_year']\n",
        "combined.drop(waste_features,axis=1,inplace=True)\n",
        "\n",
        "# Convert into Lower case\n",
        "combined.waterpoint_type = combined.waterpoint_type.str.lower()\n",
        "combined.funder = combined.funder.str.lower()\n",
        "combined.basin = combined.basin.str.lower()\n",
        "combined.region = combined.region.str.lower()\n",
        "combined.source = combined.source.str.lower()\n",
        "combined.lga = combined.lga.str.lower()\n",
        "combined.management = combined.management.str.lower()\n",
        "combined.quantity = combined.quantity.str.lower()\n",
        "combined.water_quality = combined.water_quality.str.lower()\n",
        "combined.payment_type=combined.payment_type.str.lower()\n",
        "combined.extraction_type=combined.extraction_type.str.lower()\n",
        "\n",
        "combined[\"funder\"].fillna(\"other\", inplace=True)\n",
        "combined[\"scheme_management\"].fillna(\"other\", inplace=True)\n",
        "\n",
        "print(combined.isnull().sum())\n",
        "combined.info()\n",
        "combined.quantity.head(5)"
      ],
      "execution_count": 32,
      "outputs": [
        {
          "output_type": "stream",
          "name": "stdout",
          "text": [
            "id                       0\n",
            "amount_tsh           23240\n",
            "funder                   0\n",
            "gps_height           23705\n",
            "longitude              603\n",
            "latitude                 0\n",
            "basin                    0\n",
            "region                   0\n",
            "district_code            0\n",
            "lga                      0\n",
            "population           23847\n",
            "scheme_management        0\n",
            "extraction_type          0\n",
            "management               0\n",
            "payment_type             0\n",
            "water_quality            0\n",
            "quantity                 0\n",
            "source                   0\n",
            "waterpoint_type          0\n",
            "train                    0\n",
            "operational_year     23358\n",
            "dtype: int64\n",
            "<class 'pandas.core.frame.DataFrame'>\n",
            "Int64Index: 74250 entries, 0 to 14849\n",
            "Data columns (total 21 columns):\n",
            " #   Column             Non-Null Count  Dtype  \n",
            "---  ------             --------------  -----  \n",
            " 0   id                 74250 non-null  int64  \n",
            " 1   amount_tsh         51010 non-null  float64\n",
            " 2   funder             74250 non-null  object \n",
            " 3   gps_height         50545 non-null  float64\n",
            " 4   longitude          73647 non-null  float64\n",
            " 5   latitude           74250 non-null  float64\n",
            " 6   basin              74250 non-null  object \n",
            " 7   region             74250 non-null  object \n",
            " 8   district_code      74250 non-null  int64  \n",
            " 9   lga                74250 non-null  object \n",
            " 10  population         50403 non-null  float64\n",
            " 11  scheme_management  74250 non-null  object \n",
            " 12  extraction_type    74250 non-null  object \n",
            " 13  management         74250 non-null  object \n",
            " 14  payment_type       74250 non-null  object \n",
            " 15  water_quality      74250 non-null  object \n",
            " 16  quantity           74250 non-null  object \n",
            " 17  source             74250 non-null  object \n",
            " 18  waterpoint_type    74250 non-null  object \n",
            " 19  train              74250 non-null  int64  \n",
            " 20  operational_year   50892 non-null  float64\n",
            "dtypes: float64(6), int64(3), object(12)\n",
            "memory usage: 12.5+ MB\n"
          ]
        },
        {
          "output_type": "execute_result",
          "data": {
            "text/plain": [
              "0          enough\n",
              "1    insufficient\n",
              "2          enough\n",
              "3             dry\n",
              "4        seasonal\n",
              "Name: quantity, dtype: object"
            ]
          },
          "metadata": {},
          "execution_count": 32
        }
      ]
    },
    {
      "cell_type": "code",
      "metadata": {
        "colab": {
          "base_uri": "https://localhost:8080/"
        },
        "id": "GRPq_R7oUTPQ",
        "outputId": "2afcaf6c-31e9-497a-a030-398a04095f90"
      },
      "source": [
        "combined.shape"
      ],
      "execution_count": 6,
      "outputs": [
        {
          "output_type": "execute_result",
          "data": {
            "text/plain": [
              "(74250, 21)"
            ]
          },
          "metadata": {},
          "execution_count": 6
        }
      ]
    },
    {
      "cell_type": "code",
      "metadata": {
        "colab": {
          "base_uri": "https://localhost:8080/",
          "height": 326
        },
        "id": "ufzkjwhxUW_k",
        "outputId": "9621583a-8fcf-430d-d3a3-3d456c38cc55"
      },
      "source": [
        "combined.head()"
      ],
      "execution_count": 7,
      "outputs": [
        {
          "output_type": "execute_result",
          "data": {
            "text/html": [
              "<div>\n",
              "<style scoped>\n",
              "    .dataframe tbody tr th:only-of-type {\n",
              "        vertical-align: middle;\n",
              "    }\n",
              "\n",
              "    .dataframe tbody tr th {\n",
              "        vertical-align: top;\n",
              "    }\n",
              "\n",
              "    .dataframe thead th {\n",
              "        text-align: right;\n",
              "    }\n",
              "</style>\n",
              "<table border=\"1\" class=\"dataframe\">\n",
              "  <thead>\n",
              "    <tr style=\"text-align: right;\">\n",
              "      <th></th>\n",
              "      <th>id</th>\n",
              "      <th>amount_tsh</th>\n",
              "      <th>funder</th>\n",
              "      <th>gps_height</th>\n",
              "      <th>longitude</th>\n",
              "      <th>latitude</th>\n",
              "      <th>basin</th>\n",
              "      <th>region</th>\n",
              "      <th>district_code</th>\n",
              "      <th>lga</th>\n",
              "      <th>population</th>\n",
              "      <th>scheme_management</th>\n",
              "      <th>extraction_type</th>\n",
              "      <th>management</th>\n",
              "      <th>payment_type</th>\n",
              "      <th>water_quality</th>\n",
              "      <th>quantity</th>\n",
              "      <th>source</th>\n",
              "      <th>waterpoint_type</th>\n",
              "      <th>train</th>\n",
              "      <th>operational_year</th>\n",
              "    </tr>\n",
              "  </thead>\n",
              "  <tbody>\n",
              "    <tr>\n",
              "      <th>0</th>\n",
              "      <td>69572</td>\n",
              "      <td>0.342846</td>\n",
              "      <td>roman</td>\n",
              "      <td>10.324381</td>\n",
              "      <td>34.938093</td>\n",
              "      <td>-9.856322</td>\n",
              "      <td>lake nyasa</td>\n",
              "      <td>iringa</td>\n",
              "      <td>5</td>\n",
              "      <td>ludewa</td>\n",
              "      <td>0.070822</td>\n",
              "      <td>VWC</td>\n",
              "      <td>gravity</td>\n",
              "      <td>vwc</td>\n",
              "      <td>annually</td>\n",
              "      <td>soft</td>\n",
              "      <td>enough</td>\n",
              "      <td>spring</td>\n",
              "      <td>communal standpipe</td>\n",
              "      <td>1</td>\n",
              "      <td>12.0</td>\n",
              "    </tr>\n",
              "    <tr>\n",
              "      <th>1</th>\n",
              "      <td>8776</td>\n",
              "      <td>0.011417</td>\n",
              "      <td>grumeti</td>\n",
              "      <td>10.387164</td>\n",
              "      <td>34.698766</td>\n",
              "      <td>-2.147466</td>\n",
              "      <td>lake victoria</td>\n",
              "      <td>mara</td>\n",
              "      <td>2</td>\n",
              "      <td>serengeti</td>\n",
              "      <td>0.182957</td>\n",
              "      <td>Other</td>\n",
              "      <td>gravity</td>\n",
              "      <td>wug</td>\n",
              "      <td>never pay</td>\n",
              "      <td>soft</td>\n",
              "      <td>insufficient</td>\n",
              "      <td>rainwater harvesting</td>\n",
              "      <td>communal standpipe</td>\n",
              "      <td>1</td>\n",
              "      <td>3.0</td>\n",
              "    </tr>\n",
              "    <tr>\n",
              "      <th>2</th>\n",
              "      <td>34310</td>\n",
              "      <td>0.001417</td>\n",
              "      <td>lottery club</td>\n",
              "      <td>5.413324</td>\n",
              "      <td>37.460664</td>\n",
              "      <td>-3.821329</td>\n",
              "      <td>pangani</td>\n",
              "      <td>manyara</td>\n",
              "      <td>4</td>\n",
              "      <td>simanjiro</td>\n",
              "      <td>0.163284</td>\n",
              "      <td>VWC</td>\n",
              "      <td>gravity</td>\n",
              "      <td>vwc</td>\n",
              "      <td>per bucket</td>\n",
              "      <td>soft</td>\n",
              "      <td>enough</td>\n",
              "      <td>dam</td>\n",
              "      <td>communal standpipe multiple</td>\n",
              "      <td>1</td>\n",
              "      <td>4.0</td>\n",
              "    </tr>\n",
              "    <tr>\n",
              "      <th>3</th>\n",
              "      <td>67743</td>\n",
              "      <td>0.002846</td>\n",
              "      <td>unicef</td>\n",
              "      <td>2.462504</td>\n",
              "      <td>38.486161</td>\n",
              "      <td>-11.155298</td>\n",
              "      <td>ruvuma / southern coast</td>\n",
              "      <td>mtwara</td>\n",
              "      <td>63</td>\n",
              "      <td>nanyumbu</td>\n",
              "      <td>0.037378</td>\n",
              "      <td>VWC</td>\n",
              "      <td>submersible</td>\n",
              "      <td>vwc</td>\n",
              "      <td>never pay</td>\n",
              "      <td>soft</td>\n",
              "      <td>dry</td>\n",
              "      <td>machine dbh</td>\n",
              "      <td>communal standpipe multiple</td>\n",
              "      <td>1</td>\n",
              "      <td>27.0</td>\n",
              "    </tr>\n",
              "    <tr>\n",
              "      <th>4</th>\n",
              "      <td>19728</td>\n",
              "      <td>0.014274</td>\n",
              "      <td>action in a</td>\n",
              "      <td>7.995705</td>\n",
              "      <td>31.130847</td>\n",
              "      <td>-1.825359</td>\n",
              "      <td>lake victoria</td>\n",
              "      <td>kagera</td>\n",
              "      <td>1</td>\n",
              "      <td>karagwe</td>\n",
              "      <td>0.130496</td>\n",
              "      <td>other</td>\n",
              "      <td>gravity</td>\n",
              "      <td>other</td>\n",
              "      <td>never pay</td>\n",
              "      <td>soft</td>\n",
              "      <td>seasonal</td>\n",
              "      <td>rainwater harvesting</td>\n",
              "      <td>communal standpipe</td>\n",
              "      <td>1</td>\n",
              "      <td>8.0</td>\n",
              "    </tr>\n",
              "  </tbody>\n",
              "</table>\n",
              "</div>"
            ],
            "text/plain": [
              "      id  amount_tsh  ... train  operational_year\n",
              "0  69572    0.342846  ...     1              12.0\n",
              "1   8776    0.011417  ...     1               3.0\n",
              "2  34310    0.001417  ...     1               4.0\n",
              "3  67743    0.002846  ...     1              27.0\n",
              "4  19728    0.014274  ...     1               8.0\n",
              "\n",
              "[5 rows x 21 columns]"
            ]
          },
          "metadata": {},
          "execution_count": 7
        }
      ]
    },
    {
      "cell_type": "code",
      "metadata": {
        "colab": {
          "base_uri": "https://localhost:8080/"
        },
        "id": "FcrOpTvmUzbD",
        "outputId": "9101bdfa-925b-496f-c8a5-b12f9e7a258a"
      },
      "source": [
        "# Preprocessing\n",
        "combined['funder'] = pd.factorize(combined['funder'])[0]\n",
        "combined['scheme_management'] = pd.factorize(combined['scheme_management'])[0]\n",
        "combined['extraction_type'] = pd.factorize(combined['extraction_type'])[0]\n",
        "combined['management'] = pd.factorize(combined['management'])[0]\n",
        "combined['payment_type'] = pd.factorize(combined['payment_type'])[0]\n",
        "combined['water_quality'] = pd.factorize(combined['water_quality'])[0]\n",
        "combined['quantity'] = pd.factorize(combined['quantity'])[0]\n",
        "combined['source'] = pd.factorize(combined['source'])[0]\n",
        "combined['waterpoint_type'] = pd.factorize(combined['waterpoint_type'])[0]\n",
        "combined['basin'] = pd.factorize(combined['basin'])[0]\n",
        "combined['region'] = pd.factorize(combined['region'])[0]\n",
        "combined['lga'] = pd.factorize(combined['lga'])[0]\n",
        "combined['district_code'] = pd.factorize(combined['district_code'])[0]\n",
        "combined['functional_period'] = pd.factorize(combined['functional_period'])[0]\n",
        "combined.district_code.head(5)"
      ],
      "execution_count": 8,
      "outputs": [
        {
          "output_type": "execute_result",
          "data": {
            "text/plain": [
              "0    0\n",
              "1    1\n",
              "2    2\n",
              "3    3\n",
              "4    4\n",
              "Name: district_code, dtype: int64"
            ]
          },
          "metadata": {},
          "execution_count": 8
        }
      ]
    },
    {
      "cell_type": "code",
      "metadata": {
        "colab": {
          "base_uri": "https://localhost:8080/"
        },
        "id": "5sPfESPtU087",
        "outputId": "a454234b-a125-4525-bc18-8c4b4fb0cbd1"
      },
      "source": [
        "X = combined[combined[\"train\"] == 1]\n",
        "X_test = combined[combined[\"train\"] == 0]\n",
        "X.drop([\"train\"], axis=1, inplace=True)\n",
        "X.drop(['id'],axis=1, inplace=True)\n",
        "X_test.drop([\"train\"], axis=1, inplace=True)\n",
        "X_test_id = X_test['id']\n",
        "X_test.drop(['id'],axis=1, inplace=True)"
      ],
      "execution_count": 9,
      "outputs": [
        {
          "output_type": "stream",
          "name": "stderr",
          "text": [
            "/usr/local/lib/python3.7/dist-packages/pandas/core/frame.py:4174: SettingWithCopyWarning: \n",
            "A value is trying to be set on a copy of a slice from a DataFrame\n",
            "\n",
            "See the caveats in the documentation: https://pandas.pydata.org/pandas-docs/stable/user_guide/indexing.html#returning-a-view-versus-a-copy\n",
            "  errors=errors,\n"
          ]
        }
      ]
    },
    {
      "cell_type": "code",
      "metadata": {
        "id": "3oLIIiIuWc4D"
      },
      "source": [
        "model_rfc = RandomForestClassifier(n_estimators=1000)"
      ],
      "execution_count": 10,
      "outputs": []
    },
    {
      "cell_type": "code",
      "metadata": {
        "id": "t8ZES1ZXWOQy"
      },
      "source": [
        "model = XGBClassifier(objective = 'multi:softmax', booster = 'gbtree', nrounds = 'min.error.idx', \n",
        "                      num_class = 4, maximize = False, eval_metric = 'merror', eta = .2,\n",
        "                      max_depth = 14, colsample_bytree = .4)"
      ],
      "execution_count": 11,
      "outputs": []
    },
    {
      "cell_type": "code",
      "metadata": {
        "colab": {
          "base_uri": "https://localhost:8080/"
        },
        "id": "VOV6WMJxWU8P",
        "outputId": "e460e476-fa7a-456c-faa7-ac02b99afdbe"
      },
      "source": [
        "cross_val_score(model_rfc, X, y, cv=3)"
      ],
      "execution_count": 12,
      "outputs": [
        {
          "output_type": "execute_result",
          "data": {
            "text/plain": [
              "array([0.80439394, 0.8030303 , 0.80045455])"
            ]
          },
          "metadata": {},
          "execution_count": 12
        }
      ]
    },
    {
      "cell_type": "code",
      "metadata": {
        "colab": {
          "base_uri": "https://localhost:8080/"
        },
        "id": "BbaNtfSWWt8B",
        "outputId": "7775bdbf-cdc8-403b-8e6f-f7462fbbc2ee"
      },
      "source": [
        "model_rfc.fit(X,y)"
      ],
      "execution_count": 13,
      "outputs": [
        {
          "output_type": "execute_result",
          "data": {
            "text/plain": [
              "RandomForestClassifier(bootstrap=True, ccp_alpha=0.0, class_weight=None,\n",
              "                       criterion='gini', max_depth=None, max_features='auto',\n",
              "                       max_leaf_nodes=None, max_samples=None,\n",
              "                       min_impurity_decrease=0.0, min_impurity_split=None,\n",
              "                       min_samples_leaf=1, min_samples_split=2,\n",
              "                       min_weight_fraction_leaf=0.0, n_estimators=1000,\n",
              "                       n_jobs=None, oob_score=False, random_state=None,\n",
              "                       verbose=0, warm_start=False)"
            ]
          },
          "metadata": {},
          "execution_count": 13
        }
      ]
    },
    {
      "cell_type": "code",
      "metadata": {
        "colab": {
          "base_uri": "https://localhost:8080/"
        },
        "id": "6D2xal_gXYSc",
        "outputId": "80fea67e-865c-47fa-a9c6-92073e5c95ff"
      },
      "source": [
        "importances = model_rfc.feature_importances_\n",
        "importances\n",
        "indices = np.argsort(importances)[::-1]\n",
        "\n",
        "# Feature Ranking\n",
        "for f in range(X.shape[1]):\n",
        "    print(\"%d. feature %d (%f)\" % (f + 1, indices[f], importances[indices[f]]))\n",
        "\n",
        "for f in range(X.shape[1]):\n",
        "    print(X.columns[indices[f]],end=', ')"
      ],
      "execution_count": 20,
      "outputs": [
        {
          "output_type": "stream",
          "name": "stdout",
          "text": [
            "1. feature 3 (0.152716)\n",
            "2. feature 4 (0.150587)\n",
            "3. feature 15 (0.114606)\n",
            "4. feature 2 (0.077714)\n",
            "5. feature 17 (0.059308)\n",
            "6. feature 11 (0.055767)\n",
            "7. feature 1 (0.054459)\n",
            "8. feature 9 (0.052128)\n",
            "9. feature 18 (0.048463)\n",
            "10. feature 13 (0.032981)\n",
            "11. feature 8 (0.031544)\n",
            "12. feature 16 (0.030757)\n",
            "13. feature 0 (0.027501)\n",
            "14. feature 6 (0.023161)\n",
            "15. feature 7 (0.022055)\n",
            "16. feature 12 (0.018322)\n",
            "17. feature 5 (0.016823)\n",
            "18. feature 10 (0.016638)\n",
            "19. feature 14 (0.014468)\n",
            "longitude, latitude, quantity, gps_height, waterpoint_type, extraction_type, funder, population, operational_year, payment_type, lga, source, amount_tsh, region, district_code, management, basin, scheme_management, water_quality, "
          ]
        }
      ]
    },
    {
      "cell_type": "code",
      "metadata": {
        "id": "4ilgg3akNgsq"
      },
      "source": [
        "y_pred = model_rfc.predict(X_test)"
      ],
      "execution_count": 15,
      "outputs": []
    },
    {
      "cell_type": "code",
      "metadata": {
        "id": "mWXnjoSHX1fo"
      },
      "source": [
        "y_pred=pd.DataFrame(y_pred)\n",
        "y_pred['id']= X_test_id\n",
        "y_pred.columns=['status_group','id']\n",
        "y_pred=y_pred[['id','status_group']]"
      ],
      "execution_count": 16,
      "outputs": []
    },
    {
      "cell_type": "code",
      "metadata": {
        "id": "S6iRts6eX22p",
        "colab": {
          "base_uri": "https://localhost:8080/"
        },
        "outputId": "b2386cae-6909-4189-ceec-ffa63bedce7c"
      },
      "source": [
        "y_pred.info()"
      ],
      "execution_count": 17,
      "outputs": [
        {
          "output_type": "stream",
          "name": "stdout",
          "text": [
            "<class 'pandas.core.frame.DataFrame'>\n",
            "RangeIndex: 14850 entries, 0 to 14849\n",
            "Data columns (total 2 columns):\n",
            " #   Column        Non-Null Count  Dtype \n",
            "---  ------        --------------  ----- \n",
            " 0   id            14850 non-null  int64 \n",
            " 1   status_group  14850 non-null  object\n",
            "dtypes: int64(1), object(1)\n",
            "memory usage: 232.2+ KB\n"
          ]
        }
      ]
    },
    {
      "cell_type": "code",
      "metadata": {
        "id": "WdXr-_6xX7Jr"
      },
      "source": [
        "pd.DataFrame(y_pred).to_csv(path+\"/submission_new.csv\",index=False)"
      ],
      "execution_count": 18,
      "outputs": []
    }
  ]
}