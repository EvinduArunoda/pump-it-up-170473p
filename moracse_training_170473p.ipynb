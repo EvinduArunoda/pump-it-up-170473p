{
  "nbformat": 4,
  "nbformat_minor": 0,
  "metadata": {
    "colab": {
      "name": "Copy of moracse_training_170473p.ipynb",
      "provenance": [],
      "authorship_tag": "ABX9TyPkFr5X1TTz7NnH/PUeiUf2",
      "include_colab_link": true
    },
    "kernelspec": {
      "display_name": "Python 3",
      "name": "python3"
    },
    "language_info": {
      "name": "python"
    }
  },
  "cells": [
    {
      "cell_type": "markdown",
      "metadata": {
        "id": "view-in-github",
        "colab_type": "text"
      },
      "source": [
        "<a href=\"https://colab.research.google.com/github/EvinduArunoda/pump-it-up-170473p/blob/main/moracse_training_170473p.ipynb\" target=\"_parent\"><img src=\"https://colab.research.google.com/assets/colab-badge.svg\" alt=\"Open In Colab\"/></a>"
      ]
    },
    {
      "cell_type": "code",
      "metadata": {
        "colab": {
          "base_uri": "https://localhost:8080/"
        },
        "id": "Kg7EN5PSnDAZ",
        "outputId": "038b931d-c939-49c5-b38f-e4efde87197c"
      },
      "source": [
        "from google.colab import drive\n",
        "drive.mount(\"/content/drive\")\n",
        "\n",
        "path = '/content/drive/MyDrive/Machine Learning Project/Data'"
      ],
      "execution_count": 1,
      "outputs": [
        {
          "output_type": "stream",
          "name": "stdout",
          "text": [
            "Drive already mounted at /content/drive; to attempt to forcibly remount, call drive.mount(\"/content/drive\", force_remount=True).\n"
          ]
        }
      ]
    },
    {
      "cell_type": "code",
      "metadata": {
        "id": "1eKuI8yGLXEW"
      },
      "source": [
        "# imports\n",
        "import pandas as pd\n",
        "import numpy as np\n",
        "import matplotlib.pyplot as plt\n",
        "import seaborn as sns\n",
        "from sklearn.preprocessing import MinMaxScaler\n",
        "from sklearn.ensemble import RandomForestClassifier\n",
        "from xgboost import XGBClassifier\n",
        "from sklearn.model_selection import cross_val_score\n",
        "\n",
        "test = pd.read_csv(path+\"/test_set_values.csv\")\n",
        "train_x = pd.read_csv(path+\"/training_set_values.csv\")\n",
        "train_y = pd.read_csv(path+\"/training_set_labels.csv\")\n",
        "\n",
        "train = train_y.merge(train_x, on='id')\n"
      ],
      "execution_count": 2,
      "outputs": []
    },
    {
      "cell_type": "code",
      "metadata": {
        "colab": {
          "base_uri": "https://localhost:8080/"
        },
        "id": "rAEOpw0fANeE",
        "outputId": "f0c88c4b-4308-46b3-a7ad-0e2a43e78250"
      },
      "source": [
        "target = train.pop('status_group')\n",
        "\n",
        "train['train']=1\n",
        "test['train']=0\n",
        "\n",
        "combined = pd.concat([train, test])\n",
        "\n",
        "target.shape"
      ],
      "execution_count": 4,
      "outputs": [
        {
          "output_type": "execute_result",
          "data": {
            "text/plain": [
              "(59400,)"
            ]
          },
          "metadata": {},
          "execution_count": 4
        }
      ]
    },
    {
      "cell_type": "code",
      "metadata": {
        "colab": {
          "base_uri": "https://localhost:8080/"
        },
        "id": "dOpEbCrL1oD1",
        "outputId": "3c42cc75-9e8a-46ad-e2e5-c97a2e8e74ed"
      },
      "source": [
        "target.head()"
      ],
      "execution_count": 5,
      "outputs": [
        {
          "output_type": "execute_result",
          "data": {
            "text/plain": [
              "0        functional\n",
              "1        functional\n",
              "2        functional\n",
              "3    non functional\n",
              "4        functional\n",
              "Name: status_group, dtype: object"
            ]
          },
          "metadata": {},
          "execution_count": 5
        }
      ]
    },
    {
      "cell_type": "markdown",
      "metadata": {
        "id": "Ok6q9shLLOuL"
      },
      "source": [
        "Pre-processing"
      ]
    },
    {
      "cell_type": "code",
      "metadata": {
        "colab": {
          "base_uri": "https://localhost:8080/"
        },
        "id": "HLtbgiS1nUMG",
        "outputId": "d6a03beb-9ba6-4cc3-b321-c710e66a9c27"
      },
      "source": [
        "combined['gps_height'].replace(0.0, np.nan, inplace=True)\n",
        "combined['population'].replace(0.0, np.nan, inplace=True)\n",
        "combined['amount_tsh'].replace(0.0, np.nan, inplace=True)\n",
        "\n",
        "combined[\"gps_height\"].fillna(combined.groupby(['region', 'district_code'])[\"gps_height\"].transform(\"mean\"), inplace=True)\n",
        "combined[\"gps_height\"].fillna(combined.groupby(['region'])[\"gps_height\"].transform(\"mean\"), inplace=True)\n",
        "combined[\"gps_height\"].fillna(combined[\"gps_height\"].mean(), inplace=True)\n",
        "combined[\"population\"].fillna(combined.groupby(['region', 'district_code'])[\"population\"].transform(\"median\"), inplace=True)\n",
        "combined[\"population\"].fillna(combined.groupby(['region'])[\"population\"].transform(\"median\"), inplace=True)\n",
        "combined[\"population\"].fillna(combined[\"population\"].median(), inplace=True)\n",
        "combined[\"amount_tsh\"].fillna(combined.groupby(['region', 'district_code'])[\"amount_tsh\"].transform(\"median\"), inplace=True)\n",
        "combined[\"amount_tsh\"].fillna(combined.groupby(['region'])[\"amount_tsh\"].transform(\"median\"), inplace=True)\n",
        "combined[\"amount_tsh\"].fillna(combined[\"amount_tsh\"].median(), inplace=True)\n",
        "\n",
        "features=['amount_tsh', 'gps_height', 'population']\n",
        "scaler = MinMaxScaler(feature_range=(0,20))\n",
        "combined[features] = scaler.fit_transform(combined[features])\n",
        "\n",
        "combined['longitude'].replace(0.0, np.nan, inplace=True)\n",
        "combined['latitude'].replace(0.0, np.nan, inplace=True)\n",
        "combined['construction_year'].replace(0.0, np.nan, inplace=True)\n",
        "\n",
        "combined[\"latitude\"].fillna(combined.groupby(['region', 'district_code'])[\"latitude\"].transform(\"mean\"), inplace=True)\n",
        "combined[\"longitude\"].fillna(combined.groupby(['region', 'district_code'])[\"longitude\"].transform(\"mean\"), inplace=True)\n",
        "combined[\"longitude\"].fillna(combined.groupby(['region'])[\"longitude\"].transform(\"mean\"), inplace=True)\n",
        "combined[\"construction_year\"].fillna(combined.groupby(['region', 'district_code'])[\"construction_year\"].transform(\"median\"), inplace=True)\n",
        "combined[\"construction_year\"].fillna(combined.groupby(['region'])[\"construction_year\"].transform(\"median\"), inplace=True)\n",
        "combined[\"construction_year\"].fillna(combined.groupby(['district_code'])[\"construction_year\"].transform(\"median\"), inplace=True)\n",
        "combined[\"construction_year\"].fillna(combined[\"construction_year\"].median(), inplace=True)\n",
        "\n",
        "combined['date_recorded'] = pd.to_datetime(combined['date_recorded'])\n",
        "combined['operational_year'] = combined.date_recorded.dt.year - combined.construction_year\n",
        "\n",
        "#DATA Cleaning\n",
        "waste_features=['wpt_name','num_private','subvillage','region_code','recorded_by']\n",
        "#since region and region_code are representing the same thing\n",
        "combined.drop(waste_features,axis=1,inplace=True)\n",
        "combined.drop('management_group',axis=1,inplace=True)\n",
        "combined.drop('extraction_type_group',axis=1,inplace=True)\n",
        "combined.drop('extraction_type_class',axis=1,inplace=True)\n",
        "combined.drop('payment',axis=1,inplace=True)\n",
        "combined.drop([\"scheme_name\"], axis=1, inplace=True)\n",
        "combined.drop('quality_group',axis=1,inplace=True)\n",
        "combined.drop('quantity_group',axis=1,inplace=True)\n",
        "combined.drop('source_type',axis=1,inplace=True)\n",
        "combined.drop('source_class',axis=1,inplace=True)\n",
        "combined.drop('waterpoint_type_group',axis=1,inplace=True)\n",
        "combined.drop('ward',axis=1,inplace=True)\n",
        "combined.drop('installer',axis=1,inplace=True)\n",
        "combined.drop('public_meeting', axis=1, inplace=True)\n",
        "combined.drop('permit', axis=1, inplace=True)\n",
        "\n",
        "#For every categorical response, convert the levels to lower case, in case there is random capitalization\n",
        "combined.waterpoint_type = combined.waterpoint_type.str.lower()\n",
        "combined.funder = combined.funder.str.lower()\n",
        "combined.basin = combined.basin.str.lower()\n",
        "combined.region = combined.region.str.lower()\n",
        "combined.source = combined.source.str.lower()\n",
        "combined.lga = combined.lga.str.lower()\n",
        "combined.management = combined.management.str.lower()\n",
        "combined.quantity = combined.quantity.str.lower()\n",
        "combined.water_quality = combined.water_quality.str.lower()\n",
        "combined.payment_type=combined.payment_type.str.lower()\n",
        "combined.extraction_type=combined.extraction_type.str.lower()\n",
        "\n",
        "combined[\"funder\"].fillna(\"other\", inplace=True)\n",
        "combined[\"scheme_management\"].fillna(\"other\", inplace=True)\n",
        "print(combined.isnull().sum())\n",
        "combined.drop('date_recorded', axis=1, inplace=True)\n",
        "combined.drop('construction_year', axis=1, inplace=True)\n",
        "combined.info()\n",
        "combined.quantity.head(5)"
      ],
      "execution_count": 6,
      "outputs": [
        {
          "output_type": "stream",
          "name": "stdout",
          "text": [
            "id                       0\n",
            "amount_tsh               0\n",
            "date_recorded            0\n",
            "funder                   0\n",
            "gps_height               0\n",
            "longitude                0\n",
            "latitude                 0\n",
            "basin                    0\n",
            "region                   0\n",
            "district_code            0\n",
            "lga                      0\n",
            "population               0\n",
            "scheme_management        0\n",
            "scheme_name          35258\n",
            "construction_year        0\n",
            "extraction_type          0\n",
            "management               0\n",
            "payment_type             0\n",
            "water_quality            0\n",
            "quantity                 0\n",
            "source                   0\n",
            "waterpoint_type          0\n",
            "train                    0\n",
            "operational_year         0\n",
            "dtype: int64\n",
            "<class 'pandas.core.frame.DataFrame'>\n",
            "Int64Index: 74250 entries, 0 to 14849\n",
            "Data columns (total 22 columns):\n",
            " #   Column             Non-Null Count  Dtype  \n",
            "---  ------             --------------  -----  \n",
            " 0   id                 74250 non-null  int64  \n",
            " 1   amount_tsh         74250 non-null  float64\n",
            " 2   funder             74250 non-null  object \n",
            " 3   gps_height         74250 non-null  float64\n",
            " 4   longitude          74250 non-null  float64\n",
            " 5   latitude           74250 non-null  float64\n",
            " 6   basin              74250 non-null  object \n",
            " 7   region             74250 non-null  object \n",
            " 8   district_code      74250 non-null  int64  \n",
            " 9   lga                74250 non-null  object \n",
            " 10  population         74250 non-null  float64\n",
            " 11  scheme_management  74250 non-null  object \n",
            " 12  scheme_name        38992 non-null  object \n",
            " 13  extraction_type    74250 non-null  object \n",
            " 14  management         74250 non-null  object \n",
            " 15  payment_type       74250 non-null  object \n",
            " 16  water_quality      74250 non-null  object \n",
            " 17  quantity           74250 non-null  object \n",
            " 18  source             74250 non-null  object \n",
            " 19  waterpoint_type    74250 non-null  object \n",
            " 20  train              74250 non-null  int64  \n",
            " 21  operational_year   74250 non-null  float64\n",
            "dtypes: float64(6), int64(3), object(13)\n",
            "memory usage: 13.0+ MB\n"
          ]
        },
        {
          "output_type": "execute_result",
          "data": {
            "text/plain": [
              "0          enough\n",
              "1    insufficient\n",
              "2          enough\n",
              "3             dry\n",
              "4        seasonal\n",
              "Name: quantity, dtype: object"
            ]
          },
          "metadata": {},
          "execution_count": 6
        }
      ]
    },
    {
      "cell_type": "code",
      "metadata": {
        "colab": {
          "base_uri": "https://localhost:8080/"
        },
        "id": "GRPq_R7oUTPQ",
        "outputId": "429a79d0-54cf-47e3-f853-8c7e5b30ead6"
      },
      "source": [
        "combined.shape"
      ],
      "execution_count": 7,
      "outputs": [
        {
          "output_type": "execute_result",
          "data": {
            "text/plain": [
              "(74250, 22)"
            ]
          },
          "metadata": {},
          "execution_count": 7
        }
      ]
    },
    {
      "cell_type": "code",
      "metadata": {
        "colab": {
          "base_uri": "https://localhost:8080/",
          "height": 343
        },
        "id": "ufzkjwhxUW_k",
        "outputId": "7f3e367e-2d3c-4c0c-a9ab-85c38e49ca33"
      },
      "source": [
        "combined.head()"
      ],
      "execution_count": 8,
      "outputs": [
        {
          "output_type": "execute_result",
          "data": {
            "text/html": [
              "<div>\n",
              "<style scoped>\n",
              "    .dataframe tbody tr th:only-of-type {\n",
              "        vertical-align: middle;\n",
              "    }\n",
              "\n",
              "    .dataframe tbody tr th {\n",
              "        vertical-align: top;\n",
              "    }\n",
              "\n",
              "    .dataframe thead th {\n",
              "        text-align: right;\n",
              "    }\n",
              "</style>\n",
              "<table border=\"1\" class=\"dataframe\">\n",
              "  <thead>\n",
              "    <tr style=\"text-align: right;\">\n",
              "      <th></th>\n",
              "      <th>id</th>\n",
              "      <th>amount_tsh</th>\n",
              "      <th>funder</th>\n",
              "      <th>gps_height</th>\n",
              "      <th>longitude</th>\n",
              "      <th>latitude</th>\n",
              "      <th>basin</th>\n",
              "      <th>region</th>\n",
              "      <th>district_code</th>\n",
              "      <th>lga</th>\n",
              "      <th>population</th>\n",
              "      <th>scheme_management</th>\n",
              "      <th>scheme_name</th>\n",
              "      <th>extraction_type</th>\n",
              "      <th>management</th>\n",
              "      <th>payment_type</th>\n",
              "      <th>water_quality</th>\n",
              "      <th>quantity</th>\n",
              "      <th>source</th>\n",
              "      <th>waterpoint_type</th>\n",
              "      <th>train</th>\n",
              "      <th>operational_year</th>\n",
              "    </tr>\n",
              "  </thead>\n",
              "  <tbody>\n",
              "    <tr>\n",
              "      <th>0</th>\n",
              "      <td>69572</td>\n",
              "      <td>0.342846</td>\n",
              "      <td>roman</td>\n",
              "      <td>10.324381</td>\n",
              "      <td>34.938093</td>\n",
              "      <td>-9.856322</td>\n",
              "      <td>lake nyasa</td>\n",
              "      <td>iringa</td>\n",
              "      <td>5</td>\n",
              "      <td>ludewa</td>\n",
              "      <td>0.070822</td>\n",
              "      <td>VWC</td>\n",
              "      <td>Roman</td>\n",
              "      <td>gravity</td>\n",
              "      <td>vwc</td>\n",
              "      <td>annually</td>\n",
              "      <td>soft</td>\n",
              "      <td>enough</td>\n",
              "      <td>spring</td>\n",
              "      <td>communal standpipe</td>\n",
              "      <td>1</td>\n",
              "      <td>12.0</td>\n",
              "    </tr>\n",
              "    <tr>\n",
              "      <th>1</th>\n",
              "      <td>8776</td>\n",
              "      <td>0.011417</td>\n",
              "      <td>grumeti</td>\n",
              "      <td>10.387164</td>\n",
              "      <td>34.698766</td>\n",
              "      <td>-2.147466</td>\n",
              "      <td>lake victoria</td>\n",
              "      <td>mara</td>\n",
              "      <td>2</td>\n",
              "      <td>serengeti</td>\n",
              "      <td>0.182957</td>\n",
              "      <td>Other</td>\n",
              "      <td>NaN</td>\n",
              "      <td>gravity</td>\n",
              "      <td>wug</td>\n",
              "      <td>never pay</td>\n",
              "      <td>soft</td>\n",
              "      <td>insufficient</td>\n",
              "      <td>rainwater harvesting</td>\n",
              "      <td>communal standpipe</td>\n",
              "      <td>1</td>\n",
              "      <td>3.0</td>\n",
              "    </tr>\n",
              "    <tr>\n",
              "      <th>2</th>\n",
              "      <td>34310</td>\n",
              "      <td>0.001417</td>\n",
              "      <td>lottery club</td>\n",
              "      <td>5.413324</td>\n",
              "      <td>37.460664</td>\n",
              "      <td>-3.821329</td>\n",
              "      <td>pangani</td>\n",
              "      <td>manyara</td>\n",
              "      <td>4</td>\n",
              "      <td>simanjiro</td>\n",
              "      <td>0.163284</td>\n",
              "      <td>VWC</td>\n",
              "      <td>Nyumba ya mungu pipe scheme</td>\n",
              "      <td>gravity</td>\n",
              "      <td>vwc</td>\n",
              "      <td>per bucket</td>\n",
              "      <td>soft</td>\n",
              "      <td>enough</td>\n",
              "      <td>dam</td>\n",
              "      <td>communal standpipe multiple</td>\n",
              "      <td>1</td>\n",
              "      <td>4.0</td>\n",
              "    </tr>\n",
              "    <tr>\n",
              "      <th>3</th>\n",
              "      <td>67743</td>\n",
              "      <td>0.002846</td>\n",
              "      <td>unicef</td>\n",
              "      <td>2.462504</td>\n",
              "      <td>38.486161</td>\n",
              "      <td>-11.155298</td>\n",
              "      <td>ruvuma / southern coast</td>\n",
              "      <td>mtwara</td>\n",
              "      <td>63</td>\n",
              "      <td>nanyumbu</td>\n",
              "      <td>0.037378</td>\n",
              "      <td>VWC</td>\n",
              "      <td>NaN</td>\n",
              "      <td>submersible</td>\n",
              "      <td>vwc</td>\n",
              "      <td>never pay</td>\n",
              "      <td>soft</td>\n",
              "      <td>dry</td>\n",
              "      <td>machine dbh</td>\n",
              "      <td>communal standpipe multiple</td>\n",
              "      <td>1</td>\n",
              "      <td>27.0</td>\n",
              "    </tr>\n",
              "    <tr>\n",
              "      <th>4</th>\n",
              "      <td>19728</td>\n",
              "      <td>0.014274</td>\n",
              "      <td>action in a</td>\n",
              "      <td>7.995705</td>\n",
              "      <td>31.130847</td>\n",
              "      <td>-1.825359</td>\n",
              "      <td>lake victoria</td>\n",
              "      <td>kagera</td>\n",
              "      <td>1</td>\n",
              "      <td>karagwe</td>\n",
              "      <td>0.130496</td>\n",
              "      <td>other</td>\n",
              "      <td>NaN</td>\n",
              "      <td>gravity</td>\n",
              "      <td>other</td>\n",
              "      <td>never pay</td>\n",
              "      <td>soft</td>\n",
              "      <td>seasonal</td>\n",
              "      <td>rainwater harvesting</td>\n",
              "      <td>communal standpipe</td>\n",
              "      <td>1</td>\n",
              "      <td>8.0</td>\n",
              "    </tr>\n",
              "  </tbody>\n",
              "</table>\n",
              "</div>"
            ],
            "text/plain": [
              "      id  amount_tsh  ... train  operational_year\n",
              "0  69572    0.342846  ...     1              12.0\n",
              "1   8776    0.011417  ...     1               3.0\n",
              "2  34310    0.001417  ...     1               4.0\n",
              "3  67743    0.002846  ...     1              27.0\n",
              "4  19728    0.014274  ...     1               8.0\n",
              "\n",
              "[5 rows x 22 columns]"
            ]
          },
          "metadata": {},
          "execution_count": 8
        }
      ]
    },
    {
      "cell_type": "code",
      "metadata": {
        "colab": {
          "base_uri": "https://localhost:8080/"
        },
        "id": "FcrOpTvmUzbD",
        "outputId": "97cde889-f443-4d86-83d5-11133249b820"
      },
      "source": [
        "combined['funder'] = pd.factorize(combined['funder'])[0]\n",
        "combined['scheme_management'] = pd.factorize(combined['scheme_management'])[0]\n",
        "combined['extraction_type'] = pd.factorize(combined['extraction_type'])[0]\n",
        "combined['management'] = pd.factorize(combined['management'])[0]\n",
        "combined['payment_type'] = pd.factorize(combined['payment_type'])[0]\n",
        "combined['water_quality'] = pd.factorize(combined['water_quality'])[0]\n",
        "combined['quantity'] = pd.factorize(combined['quantity'])[0]\n",
        "combined['source'] = pd.factorize(combined['source'])[0]\n",
        "combined['waterpoint_type'] = pd.factorize(combined['waterpoint_type'])[0]\n",
        "combined['basin'] = pd.factorize(combined['basin'])[0]\n",
        "combined['region'] = pd.factorize(combined['region'])[0]\n",
        "combined['lga'] = pd.factorize(combined['lga'])[0]\n",
        "combined['district_code'] = pd.factorize(combined['district_code'])[0]\n",
        "combined['operational_year'] = pd.factorize(combined['operational_year'])[0]\n",
        "combined.district_code.head(5)"
      ],
      "execution_count": 9,
      "outputs": [
        {
          "output_type": "execute_result",
          "data": {
            "text/plain": [
              "0    0\n",
              "1    1\n",
              "2    2\n",
              "3    3\n",
              "4    4\n",
              "Name: district_code, dtype: int64"
            ]
          },
          "metadata": {},
          "execution_count": 9
        }
      ]
    },
    {
      "cell_type": "code",
      "metadata": {
        "colab": {
          "base_uri": "https://localhost:8080/"
        },
        "id": "5sPfESPtU087",
        "outputId": "fc8948b8-d3b0-4a2b-e675-47cfe1c00ec0"
      },
      "source": [
        "train_df = combined[combined[\"train\"] == 1]\n",
        "test_df = combined[combined[\"train\"] == 0]\n",
        "train_df.drop([\"train\"], axis=1, inplace=True)\n",
        "train_df.drop(['id'],axis=1, inplace=True)\n",
        "test_df.drop([\"train\"], axis=1, inplace=True)"
      ],
      "execution_count": 10,
      "outputs": [
        {
          "output_type": "stream",
          "name": "stderr",
          "text": [
            "/usr/local/lib/python3.7/dist-packages/pandas/core/frame.py:4174: SettingWithCopyWarning: \n",
            "A value is trying to be set on a copy of a slice from a DataFrame\n",
            "\n",
            "See the caveats in the documentation: https://pandas.pydata.org/pandas-docs/stable/user_guide/indexing.html#returning-a-view-versus-a-copy\n",
            "  errors=errors,\n"
          ]
        }
      ]
    },
    {
      "cell_type": "code",
      "metadata": {
        "id": "3uel54mmV2Hx"
      },
      "source": [
        "#define X train\n",
        "X = train_df\n",
        "#y_train indentified at the beginning \n",
        "y = target"
      ],
      "execution_count": 11,
      "outputs": []
    },
    {
      "cell_type": "code",
      "metadata": {
        "id": "3oLIIiIuWc4D"
      },
      "source": [
        "model_rfc = RandomForestClassifier(n_estimators=1000)"
      ],
      "execution_count": 12,
      "outputs": []
    },
    {
      "cell_type": "code",
      "metadata": {
        "id": "t8ZES1ZXWOQy"
      },
      "source": [
        "model = XGBClassifier(objective = 'multi:softmax', booster = 'gbtree', nrounds = 'min.error.idx', \n",
        "                      num_class = 4, maximize = False, eval_metric = 'merror', eta = .2,\n",
        "                      max_depth = 14, colsample_bytree = .4)"
      ],
      "execution_count": 13,
      "outputs": []
    },
    {
      "cell_type": "code",
      "metadata": {
        "colab": {
          "base_uri": "https://localhost:8080/"
        },
        "id": "VOV6WMJxWU8P",
        "outputId": "63a5c00e-f5a5-401d-dc72-5f2daf22d3ad"
      },
      "source": [
        "cross_val_score(model_rfc, X, y, cv=3)"
      ],
      "execution_count": 16,
      "outputs": [
        {
          "output_type": "execute_result",
          "data": {
            "text/plain": [
              "array([0.80419192, 0.80383838, 0.79984848])"
            ]
          },
          "metadata": {},
          "execution_count": 16
        }
      ]
    },
    {
      "cell_type": "code",
      "metadata": {
        "colab": {
          "base_uri": "https://localhost:8080/"
        },
        "id": "BbaNtfSWWt8B",
        "outputId": "0782ab93-e345-4e0d-d91c-1fb938b20729"
      },
      "source": [
        "X.head()\n",
        "model_rfc.fit(X,y)\n",
        "X.info()\n",
        "importances = model_rfc.feature_importances_\n",
        "importances"
      ],
      "execution_count": 17,
      "outputs": [
        {
          "output_type": "stream",
          "name": "stdout",
          "text": [
            "<class 'pandas.core.frame.DataFrame'>\n",
            "Int64Index: 59400 entries, 0 to 59399\n",
            "Data columns (total 19 columns):\n",
            " #   Column             Non-Null Count  Dtype  \n",
            "---  ------             --------------  -----  \n",
            " 0   amount_tsh         59400 non-null  float64\n",
            " 1   funder             59400 non-null  int64  \n",
            " 2   gps_height         59400 non-null  float64\n",
            " 3   longitude          59400 non-null  float64\n",
            " 4   latitude           59400 non-null  float64\n",
            " 5   basin              59400 non-null  int64  \n",
            " 6   region             59400 non-null  int64  \n",
            " 7   district_code      59400 non-null  int64  \n",
            " 8   lga                59400 non-null  int64  \n",
            " 9   population         59400 non-null  float64\n",
            " 10  scheme_management  59400 non-null  int64  \n",
            " 11  extraction_type    59400 non-null  int64  \n",
            " 12  management         59400 non-null  int64  \n",
            " 13  payment_type       59400 non-null  int64  \n",
            " 14  water_quality      59400 non-null  int64  \n",
            " 15  quantity           59400 non-null  int64  \n",
            " 16  source             59400 non-null  int64  \n",
            " 17  waterpoint_type    59400 non-null  int64  \n",
            " 18  operational_year   59400 non-null  int64  \n",
            "dtypes: float64(5), int64(14)\n",
            "memory usage: 9.1 MB\n"
          ]
        },
        {
          "output_type": "execute_result",
          "data": {
            "text/plain": [
              "array([0.02715342, 0.05418902, 0.07735413, 0.1525171 , 0.1507655 ,\n",
              "       0.01697098, 0.02319185, 0.02201822, 0.03155034, 0.05186848,\n",
              "       0.01657997, 0.05617094, 0.01854782, 0.0328208 , 0.01416034,\n",
              "       0.11647832, 0.03084203, 0.05876654, 0.04805419])"
            ]
          },
          "metadata": {},
          "execution_count": 17
        }
      ]
    },
    {
      "cell_type": "code",
      "metadata": {
        "colab": {
          "base_uri": "https://localhost:8080/"
        },
        "id": "6D2xal_gXYSc",
        "outputId": "2ea5a08b-b034-4605-bc08-25e86ee318cd"
      },
      "source": [
        "importances = model_rfc.feature_importances_\n",
        "importances\n",
        "indices = np.argsort(importances)[::-1]\n",
        "\n",
        "# Print the feature ranking\n",
        "print(\"Feature ranking:\")\n",
        "\n",
        "for f in range(X.shape[1]):\n",
        "    print(\"%d. feature %d (%f)\" % (f + 1, indices[f], importances[indices[f]]))\n",
        "\n",
        "for f in range(X.shape[1]):\n",
        "    print(X.columns[indices[f]],end=', ')"
      ],
      "execution_count": 18,
      "outputs": [
        {
          "output_type": "stream",
          "name": "stdout",
          "text": [
            "Feature ranking:\n",
            "1. feature 3 (0.152517)\n",
            "2. feature 4 (0.150766)\n",
            "3. feature 15 (0.116478)\n",
            "4. feature 2 (0.077354)\n",
            "5. feature 17 (0.058767)\n",
            "6. feature 11 (0.056171)\n",
            "7. feature 1 (0.054189)\n",
            "8. feature 9 (0.051868)\n",
            "9. feature 18 (0.048054)\n",
            "10. feature 13 (0.032821)\n",
            "11. feature 8 (0.031550)\n",
            "12. feature 16 (0.030842)\n",
            "13. feature 0 (0.027153)\n",
            "14. feature 6 (0.023192)\n",
            "15. feature 7 (0.022018)\n",
            "16. feature 12 (0.018548)\n",
            "17. feature 5 (0.016971)\n",
            "18. feature 10 (0.016580)\n",
            "19. feature 14 (0.014160)\n",
            "longitude, latitude, quantity, gps_height, waterpoint_type, extraction_type, funder, population, operational_year, payment_type, lga, source, amount_tsh, region, district_code, management, basin, scheme_management, water_quality, "
          ]
        }
      ]
    },
    {
      "cell_type": "code",
      "metadata": {
        "id": "ioUO2cEKyp5w",
        "colab": {
          "base_uri": "https://localhost:8080/"
        },
        "outputId": "e7aea9c3-4fe8-4458-fe95-3f6b957cc4ce"
      },
      "source": [
        "#for xgboost\n",
        "\n",
        "print(cross_val_score(model, X, y, cv=3))\n",
        "model.fit(X,y)\n",
        "importances = model.feature_importances_\n",
        "importances\n",
        "indices = np.argsort(importances)[::-1]\n",
        "\n",
        "# Print the feature ranking\n",
        "print(\"Feature ranking:\")\n",
        "\n",
        "for f in range(X.shape[1]):\n",
        "    print(X.columns[indices[f]],end=', ')"
      ],
      "execution_count": 19,
      "outputs": [
        {
          "output_type": "stream",
          "name": "stdout",
          "text": [
            "[0.81075758 0.81080808 0.8079798 ]\n",
            "Feature ranking:\n",
            "quantity, waterpoint_type, extraction_type, payment_type, lga, region, source, district_code, basin, amount_tsh, management, scheme_management, water_quality, longitude, latitude, funder, operational_year, gps_height, population, "
          ]
        }
      ]
    },
    {
      "cell_type": "code",
      "metadata": {
        "id": "ntd4z-13XpfF"
      },
      "source": [
        "X_test=test_df"
      ],
      "execution_count": 20,
      "outputs": []
    },
    {
      "cell_type": "code",
      "metadata": {
        "id": "GDHlo46bXuwb",
        "colab": {
          "base_uri": "https://localhost:8080/"
        },
        "outputId": "ba07061f-1688-42a8-a60c-01fc97d21036"
      },
      "source": [
        "model_rfc.fit(X,y)"
      ],
      "execution_count": 21,
      "outputs": [
        {
          "output_type": "execute_result",
          "data": {
            "text/plain": [
              "RandomForestClassifier(bootstrap=True, ccp_alpha=0.0, class_weight=None,\n",
              "                       criterion='gini', max_depth=None, max_features='auto',\n",
              "                       max_leaf_nodes=None, max_samples=None,\n",
              "                       min_impurity_decrease=0.0, min_impurity_split=None,\n",
              "                       min_samples_leaf=1, min_samples_split=2,\n",
              "                       min_weight_fraction_leaf=0.0, n_estimators=1000,\n",
              "                       n_jobs=None, oob_score=False, random_state=None,\n",
              "                       verbose=0, warm_start=False)"
            ]
          },
          "metadata": {},
          "execution_count": 21
        }
      ]
    },
    {
      "cell_type": "code",
      "metadata": {
        "id": "m2yuk8iPXxam",
        "colab": {
          "base_uri": "https://localhost:8080/"
        },
        "outputId": "40081f61-426d-475d-d4f1-156bb713d78d"
      },
      "source": [
        "a=X_test['id']\n",
        "X_test.drop(['id'],axis=1, inplace=True)\n",
        "y_pred = model.predict(X_test)"
      ],
      "execution_count": 22,
      "outputs": [
        {
          "output_type": "stream",
          "name": "stderr",
          "text": [
            "/usr/local/lib/python3.7/dist-packages/pandas/core/frame.py:4174: SettingWithCopyWarning: \n",
            "A value is trying to be set on a copy of a slice from a DataFrame\n",
            "\n",
            "See the caveats in the documentation: https://pandas.pydata.org/pandas-docs/stable/user_guide/indexing.html#returning-a-view-versus-a-copy\n",
            "  errors=errors,\n"
          ]
        }
      ]
    },
    {
      "cell_type": "code",
      "metadata": {
        "id": "mWXnjoSHX1fo"
      },
      "source": [
        "y_pred=pd.DataFrame(y_pred)\n",
        "y_pred['id']=a\n",
        "y_pred.columns=['status_group','id']\n",
        "y_pred=y_pred[['id','status_group']]"
      ],
      "execution_count": 23,
      "outputs": []
    },
    {
      "cell_type": "code",
      "metadata": {
        "id": "S6iRts6eX22p",
        "colab": {
          "base_uri": "https://localhost:8080/"
        },
        "outputId": "821bede3-27a6-4efc-f37b-901b5cef262d"
      },
      "source": [
        "y_pred.info()"
      ],
      "execution_count": 24,
      "outputs": [
        {
          "output_type": "stream",
          "name": "stdout",
          "text": [
            "<class 'pandas.core.frame.DataFrame'>\n",
            "RangeIndex: 14850 entries, 0 to 14849\n",
            "Data columns (total 2 columns):\n",
            " #   Column        Non-Null Count  Dtype \n",
            "---  ------        --------------  ----- \n",
            " 0   id            14850 non-null  int64 \n",
            " 1   status_group  14850 non-null  object\n",
            "dtypes: int64(1), object(1)\n",
            "memory usage: 232.2+ KB\n"
          ]
        }
      ]
    },
    {
      "cell_type": "code",
      "metadata": {
        "id": "WdXr-_6xX7Jr"
      },
      "source": [
        "pd.DataFrame(y_pred).to_csv(path+\"/submission_new.csv\",index=False)"
      ],
      "execution_count": 25,
      "outputs": []
    }
  ]
}